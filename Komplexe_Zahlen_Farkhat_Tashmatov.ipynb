{
 "cells": [
  {
   "cell_type": "markdown",
   "metadata": {},
   "source": [
    "# Die Darstellung von komplexen Zahlen in C++"
   ]
  },
  {
   "cell_type": "markdown",
   "metadata": {},
   "source": [
    "Die komplexen Zahlen erweitern den Zahlenbereich der reellen Zahlen derart, dass die Gleichung x^2 + 1 = 0 lösbar wird. Dies gelingt durch Einführung einer neuen imaginären Zahl i mit der Eigenschaft i^2 = -1. Diese Zahl i wird als imaginäre Einheit bezeichnet."
   ]
  },
  {
   "cell_type": "markdown",
   "metadata": {},
   "source": [
    "Komplexe Zahlen können in der Form a + b * i dargestellt werden, wobei a und b reelle Zahlen sind und i  die imaginäre Einheit ist. Auf die so dargestellten komplexen Zahlen lassen sich die üblichen Rechenregeln für reelle Zahlen anwenden, wobei i^2 stets durch -1 ersetzt werden kann und umgekehrt."
   ]
  },
  {
   "cell_type": "code",
   "execution_count": 1,
   "metadata": {},
   "outputs": [],
   "source": [
    "#include <iostream>\n",
    "#include <math.h>\n",
    "\n",
    "class mycomplex {\n",
    "    double re, im;\n",
    "\n",
    "public:\n",
    "    //Konstruktoren\n",
    "    mycomplex(double r, double i): re{r}, im{i}{}\n",
    "    mycomplex(double r) :re{r}, im{0}{}\n",
    "    mycomplex(): re{0}, im{0}{}\n",
    "\n",
    "    //Getter und Setter\n",
    "    double real() const {\n",
    "        return re;\n",
    "    }\n",
    "    void real(double d) {\n",
    "        re = d;\n",
    "    }\n",
    "    double imag() const {\n",
    "        return im;\n",
    "    }\n",
    "    void imag(double d) {\n",
    "        im = d;\n",
    "    }\n",
    "\n",
    "    //Funktionen für die mathematische Operationen\n",
    "    mycomplex operator += (mycomplex z) {\n",
    "        return {re+=z.re, im+=z.im};\n",
    "    }\n",
    "    mycomplex operator -= (mycomplex z) {\n",
    "        return  {re-=z.re, im -= z.im};\n",
    "    }\n",
    "    mycomplex operator *= (mycomplex z) {\n",
    "        return {re*z.re-im*z.im, re*z.im+im*z.re};\n",
    "    }\n",
    "    mycomplex operator /= (mycomplex z) {\n",
    "        return {re, im};\n",
    "    }\n",
    "    double abs() {\n",
    "        return sqrt((re * re) + (im * im));\n",
    "    }\n",
    "    mycomplex power(double x){\n",
    "        double modulus = abs();\n",
    "        double arg = atan2(im, re);\n",
    "        double log_re = log(modulus);\n",
    "        double log_im = arg;\n",
    "        double x_log_re = x * log_re;\n",
    "        double x_log_im = x * log_im;\n",
    "        double modulus_ans = exp(x_log_re);\n",
    "        return {modulus_ans * cos(x_log_im), modulus_ans * sin(x_log_im)};\n",
    "    }\n",
    "    mycomplex squared() {\n",
    "        return power(2);\n",
    "    }\n",
    "};"
   ]
  },
  {
   "cell_type": "markdown",
   "metadata": {},
   "source": [
    "Oben sind 3 Konstruktoren, Getter, Setter und Funktionen für die mathematische Operationen. Mit \"operator =* , =/ usw.\" überschreiben wir die Ausführung von Symbolen =* , =/, =+, und =- für komplexe Zahlen."
   ]
  },
  {
   "cell_type": "code",
   "execution_count": 2,
   "metadata": {},
   "outputs": [
    {
     "name": "stderr",
     "output_type": "stream",
     "text": [
      "Using raw input\n"
     ]
    }
   ],
   "source": [
    ".rawInput;"
   ]
  },
  {
   "cell_type": "code",
   "execution_count": 3,
   "metadata": {},
   "outputs": [],
   "source": [
    "mycomplex operator + (mycomplex a, mycomplex b) {\n",
    "        return a+=b;\n",
    "    }\n",
    "    mycomplex operator - (mycomplex a, mycomplex b) {\n",
    "        return a-=b;\n",
    "    }\n",
    "    // unäre Minus\n",
    "    mycomplex operator - (mycomplex a) {\n",
    "        return {-a.real(), -a.imag()};\n",
    "    }\n",
    "    mycomplex operator * (mycomplex a, mycomplex b) {\n",
    "        return a*=b;\n",
    "    }\n",
    "    mycomplex operator / (mycomplex a, mycomplex b) {\n",
    "        return a/=b;\n",
    "    }\n",
    "    bool operator == (mycomplex a, mycomplex b) {\n",
    "        return a.real() == b.real() && a.imag() == b.imag();\n",
    "    }\n",
    "    bool operator != (mycomplex a, mycomplex b) {\n",
    "        return !(a==b);\n",
    "    }\n",
    "    mycomplex sqrt(mycomplex);"
   ]
  },
  {
   "cell_type": "code",
   "execution_count": 4,
   "metadata": {},
   "outputs": [
    {
     "name": "stderr",
     "output_type": "stream",
     "text": [
      "Not using raw input\n"
     ]
    }
   ],
   "source": [
    ".rawInput;"
   ]
  },
  {
   "cell_type": "markdown",
   "metadata": {},
   "source": [
    "Die Ausführung von mycomplex-Klasse in main-Methode"
   ]
  },
  {
   "cell_type": "code",
   "execution_count": 5,
   "metadata": {},
   "outputs": [
    {
     "name": "stdout",
     "output_type": "stream",
     "text": [
      "a + b = 9.6 - 9.6i\n",
      "a - b = 9.6 - 9.6i\n",
      "a / b = 4.5 - 7.3i\n",
      "a * b = 6.16 - 47.58i\n",
      "a ^ 2 = -33.04 - 65.7i\n",
      "a ^ 2 = -33.04 - 65.7i\n"
     ]
    }
   ],
   "source": [
    "mycomplex a{4.5, 7.3};\n",
    "mycomplex b{5.1, 2.3};\n",
    "mycomplex res = a + b;\n",
    "std::cout <<\"a + b = \"<<res.real()<<\" - \"<<res.imag()<<\"i\"<< std::endl;\n",
    "mycomplex res2 = a + b;\n",
    "std::cout <<\"a - b = \"<<res2.real()<<\" - \"<<res2.imag()<<\"i\"<< std::endl;    \n",
    "mycomplex res3 = a / b;\n",
    "std::cout <<\"a / b = \"<<res3.real()<<\" - \"<<res3.imag()<<\"i\"<< std::endl;\n",
    "mycomplex res4 = a * b;\n",
    "std::cout <<\"a * b = \"<<res4.real()<<\" - \"<<res4.imag()<<\"i\"<< std::endl;\n",
    "mycomplex res5 = a.power(2);\n",
    "std::cout <<\"a ^ 2 = \"<<res5.real()<<\" - \"<<res5.imag()<<\"i\"<< std::endl;\n",
    "mycomplex res6 = a.squared();\n",
    "std::cout <<\"a ^ 2 = \"<<res6.real()<<\" - \"<<res6.imag()<< \"i\"<< std::endl;\n",
    "\n",
    "return 0;"
   ]
  }
 ],
 "metadata": {
  "kernelspec": {
   "display_name": "C++17",
   "language": "C++17",
   "name": "xeus-cling-cpp17"
  },
  "language_info": {
   "codemirror_mode": "text/x-c++src",
   "file_extension": ".cpp",
   "mimetype": "text/x-c++src",
   "name": "c++",
   "version": "-std=c++17"
  }
 },
 "nbformat": 4,
 "nbformat_minor": 2
}
